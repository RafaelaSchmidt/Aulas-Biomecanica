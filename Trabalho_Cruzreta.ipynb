{
  "cells": [
    {
      "cell_type": "markdown",
      "metadata": {
        "id": "view-in-github",
        "colab_type": "text"
      },
      "source": [
        "<a href=\"https://colab.research.google.com/github/RafaelaSchmidt/Aulas-Biomecanica/blob/main/Trabalho_Cruzreta.ipynb\" target=\"_parent\"><img src=\"https://colab.research.google.com/assets/colab-badge.svg\" alt=\"Open In Colab\"/></a>"
      ]
    },
    {
      "cell_type": "code",
      "execution_count": 30,
      "metadata": {
        "colab": {
          "base_uri": "https://localhost:8080/"
        },
        "id": "AsMaFtRSk0k6",
        "outputId": "6dda6bfb-9874-4a20-ba65-51b9a2007cbc"
      },
      "outputs": [
        {
          "name": "stdout",
          "output_type": "stream",
          "text": [
            "]Digite os Dados da Camera 1\n",
            "Por favor, digite a coordenada x da camera 1: 1.5\n",
            "Por favor, digite a coordenada y da camera 1: 2\n",
            "Digite os Dados da Projeção da Camera 1\n",
            "Por favor, digite a coordenada x da projeção da camera 1: 2.1\n",
            "Por favor, digite a coordenada y da projeção da camera 1: 2\n",
            "Digite os Dados da Camera 2\n",
            "Por favor, digite a coordenada x da camera 2: 1\n",
            "Por favor, digite a coordenada y da camera 2: 1\n",
            "Digite os Dados da Projeção da Camera 2\n",
            "Por favor, digite a coordenada x da projeção da camera 2: 2\n",
            "Por favor, digite a coordenada y da projeção da camera 2: 2\n"
          ]
        }
      ],
      "source": [
        "#Camera 1\n",
        "print(\"]Digite os Dados da Camera 1\")\n",
        "xc1 = float(input(\"Por favor, digite a coordenada x da camera 1: \"))\n",
        "yc1 = float(input(\"Por favor, digite a coordenada y da camera 1: \"))\n",
        "\n",
        "\n",
        "#Projeção 1\n",
        "print(\"Digite os Dados da Projeção da Camera 1\")\n",
        "xp1 = float(input(\"Por favor, digite a coordenada x da projeção da camera 1: \"))\n",
        "yp1 = float(input(\"Por favor, digite a coordenada y da projeção da camera 1: \"))\n",
        "\n",
        "\n",
        "\n",
        "#Camera 2\n",
        "print(\"Digite os Dados da Camera 2\")\n",
        "xc2 = float(input(\"Por favor, digite a coordenada x da camera 2: \"))\n",
        "yc2 = float(input(\"Por favor, digite a coordenada y da camera 2: \"))\n",
        "\n",
        "\n",
        "#Projeção 2\n",
        "print(\"Digite os Dados da Projeção da Camera 2\")\n",
        "xp2 = float(input(\"Por favor, digite a coordenada x da projeção da camera 2: \"))\n",
        "yp2 = float(input(\"Por favor, digite a coordenada y da projeção da camera 2: \"))\n",
        "\n",
        "\n"
      ]
    },
    {
      "cell_type": "code",
      "execution_count": 32,
      "metadata": {
        "colab": {
          "base_uri": "https://localhost:8080/",
          "height": 330
        },
        "id": "kdcHqGAmrfnk",
        "outputId": "eb82bd14-b4db-4dd7-870a-2247e379e937"
      },
      "outputs": [
        {
          "output_type": "stream",
          "name": "stdout",
          "text": [
            "xi = 2.0\n",
            "yi = 2.0\n"
          ]
        },
        {
          "output_type": "display_data",
          "data": {
            "text/plain": [
              "<Figure size 432x288 with 1 Axes>"
            ],
            "image/png": "[encoded data removed]"
          },
          "metadata": {
            "needs_background": "light"
          }
        }
      ],
      "source": [
        "import matplotlib.pyplot as plt\n",
        "import numpy as np\n",
        "\n",
        "\n",
        "mr1 = (yp1 - yc1) / (xp1 - xc1) \n",
        "mr2 = (yp2 - yc2) / (xp2 - xc2)\n",
        "\n",
        "br1 = -1 * (mr1 * xc1 - yc1) # coeficiente linear de r1\n",
        "br2 = -1 * (mr2 * xc2 - yc2) # coeficiente linear de r2\n",
        "\n",
        " #r1 = mr1*xc1 + br1\n",
        " #r2= mr2*xc1 + br1\n",
        "\n",
        "#ponto do cruzamento\n",
        "xi = (-(mr2*xc2) + yc2 + (mr1*xc1) - yc1) / (mr1 - mr2) #x do cruzamento\n",
        "\n",
        "yi = (mr1*xi)  - (mr1*xc1) + yc1 #y do cruzamento\n",
        "\n",
        "#Posição do objeto reconstruído\n",
        "print(\"xi =\", xi)\n",
        "print(\"yi =\", yi)\n",
        "\n",
        "\n",
        "#Grafico\n",
        "x1 = np.linspace(0,3,100)\n",
        "y1 = mr1*x1 +br1\n",
        "\n",
        "x2 = np.linspace(0,3,100)\n",
        "y2 = mr2*x2 +br2\n",
        "\n",
        "plt.plot(x1,y1) \n",
        "plt.plot(x2,y2)\n",
        "plt.scatter(xi,yi, color = 'green') #Posição do objeto no plano xy - representada pelo ponto verde\n",
        "plt.scatter(xc1,yc1, color = 'red') #Posição da câmera 1 no plano xy - representada pelo ponto vermelho\n",
        "plt.scatter(xc2,yc2, color = 'purple') #Posição da câmera 2 no plano xy - representada pelo ponto roxo\n",
        "\n",
        "plt.xlabel('x - axis')\n",
        "plt.ylabel('y - axis')\n",
        "plt.title(\"Cruzamento de retas\")\n",
        "plt.show()\n",
        "\n",
        "#r1 = yc1 + mr1(x - xc1) \n",
        "#r2 = yc2 + mr2(x - xc2) \n",
        "\n"
      ]
    },
    {
      "cell_type": "code",
      "execution_count": 25,
      "metadata": {
        "id": "ZBubGV10eqUL"
      },
      "outputs": [],
      "source": [
        "\n",
        "\n",
        "\n",
        "\n",
        "\n"
      ]
    }
  ],
  "metadata": {
    "colab": {
      "provenance": [],
      "authorship_tag": "ABX9TyPUHS83PxU1ireH2djrAnE1",
      "include_colab_link": true
    },
    "kernelspec": {
      "display_name": "Python 3",
      "name": "python3"
    },
    "language_info": {
      "name": "python"
    }
  },
  "nbformat": 4,
  "nbformat_minor": 0
}